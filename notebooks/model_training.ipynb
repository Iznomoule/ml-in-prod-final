{
 "cells": [
  {
   "cell_type": "code",
   "execution_count": 2,
   "metadata": {},
   "outputs": [
    {
     "name": "stderr",
     "output_type": "stream",
     "text": [
      "2025/01/04 18:36:45 WARNING mlflow.models.model: Model logged without a signature and input example. Please set `input_example` parameter when logging the model to auto infer the model signature.\n"
     ]
    },
    {
     "name": "stdout",
     "output_type": "stream",
     "text": [
      "🏃 View run sneaky-seal-269 at: https://dagshub.com/Iznomoule/ml-in-production-final-dags.mlflow/#/experiments/0/runs/2f7e59b059cb4a59a5d8066e2617ee8f\n",
      "🧪 View experiment at: https://dagshub.com/Iznomoule/ml-in-production-final-dags.mlflow/#/experiments/0\n"
     ]
    }
   ],
   "source": [
    "import mlflow\n",
    "import mlflow.sklearn\n",
    "from sklearn.ensemble import RandomForestClassifier\n",
    "from sklearn.datasets import load_iris\n",
    "from sklearn.model_selection import train_test_split\n",
    "import os\n",
    "\n",
    "# Configuration des credentials (si nécessaire)\n",
    "os.environ[\"MLFLOW_TRACKING_USERNAME\"] = \"Iznomoule\"\n",
    "os.environ[\"MLFLOW_TRACKING_PASSWORD\"] = \"c6fe84c5e010267be5d816403f434bf1fbe79c3a\"\n",
    "\n",
    "# Configuration de l'URI et de l'expérience\n",
    "mlflow.set_tracking_uri(\"https://dagshub.com/Iznomoule/ml-in-production-final-dags.mlflow\")\n",
    "mlflow.set_experiment(\"test_experiment\")\n",
    "\n",
    "# Chargement des données et entraînement du modèle\n",
    "data = load_iris()\n",
    "X_train, X_test, y_train, y_test = train_test_split(data.data, data.target)\n",
    "\n",
    "with mlflow.start_run():\n",
    "    clf = RandomForestClassifier(n_estimators=10)\n",
    "    clf.fit(X_train, y_train)\n",
    "\n",
    "    accuracy = clf.score(X_test, y_test)\n",
    "\n",
    "    # Logging des paramètres, métriques et modèle\n",
    "    mlflow.log_param(\"n_estimators\", 10)\n",
    "    mlflow.log_metric(\"accuracy\", accuracy)\n",
    "    mlflow.sklearn.log_model(clf, \"model\")\n"
   ]
  }
 ],
 "metadata": {
  "kernelspec": {
   "display_name": "venv",
   "language": "python",
   "name": "python3"
  },
  "language_info": {
   "codemirror_mode": {
    "name": "ipython",
    "version": 3
   },
   "file_extension": ".py",
   "mimetype": "text/x-python",
   "name": "python",
   "nbconvert_exporter": "python",
   "pygments_lexer": "ipython3",
   "version": "3.11.2"
  }
 },
 "nbformat": 4,
 "nbformat_minor": 2
}
