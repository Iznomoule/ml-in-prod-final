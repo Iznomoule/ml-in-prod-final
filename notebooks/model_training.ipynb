{
 "cells": [
  {
   "cell_type": "code",
   "execution_count": 9,
   "metadata": {},
   "outputs": [
    {
     "name": "stderr",
     "output_type": "stream",
     "text": [
      "z:\\All\\EFREI ING\\ingénieur 3\\Machine Learning in production\\ml-in-prod-final\\venv\\Lib\\site-packages\\_distutils_hack\\__init__.py:33: UserWarning: Setuptools is replacing distutils.\n",
      "  warnings.warn(\"Setuptools is replacing distutils.\")\n"
     ]
    }
   ],
   "source": [
    "import pandas as pd\n",
    "from sklearn.model_selection import train_test_split\n",
    "from sklearn.ensemble import RandomForestClassifier\n",
    "import mlflow\n",
    "import mlflow.sklearn\n",
    "import os\n",
    "\n",
    "df = pd.read_csv(\"../data/raw/iris.csv\")  \n",
    "\n",
    "X = df.drop(\"Species\", axis=1)\n",
    "y = df[\"Species\"]\n",
    "\n",
    "X_train, X_test, y_train, y_test = train_test_split(X, y, test_size=0.2)\n",
    "\n",
    "os.environ[\"MLFLOW_TRACKING_USERNAME\"] = \"Iznomoule\"\n",
    "os.environ[\"MLFLOW_TRACKING_PASSWORD\"] = \"c6fe84c5e010267be5d816403f434bf1fbe79c3a\"\n",
    "\n",
    "mlflow.set_tracking_uri(\"https://dagshub.com/Iznomoule/ml-in-production-final-dags.mlflow\")\n",
    "mlflow.set_experiment(\"iris_experiment\")\n",
    "\n",
    "with mlflow.start_run():\n",
    "    clf = RandomForestClassifier(n_estimators=50)\n",
    "    clf.fit(X_train, y_train)\n",
    "\n",
    "    accuracy = clf.score(X_test, y_test)\n",
    "\n",
    "    mlflow.log_param(\"n_estimators\", 50)\n",
    "    mlflow.log_metric(\"accuracy\", accuracy)\n",
    "\n",
    "    mlflow.sklearn.log_model(clf, \"model\")\n"
   ]
  }
 ],
 "metadata": {
  "kernelspec": {
   "display_name": "venv",
   "language": "python",
   "name": "python3"
  },
  "language_info": {
   "codemirror_mode": {
    "name": "ipython",
    "version": 3
   },
   "file_extension": ".py",
   "mimetype": "text/x-python",
   "name": "python",
   "nbconvert_exporter": "python",
   "pygments_lexer": "ipython3",
   "version": "3.11.2"
  }
 },
 "nbformat": 4,
 "nbformat_minor": 2
}
